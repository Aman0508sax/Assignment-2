{
 "cells": [
  {
   "cell_type": "code",
   "execution_count": 7,
   "id": "276edcdc",
   "metadata": {},
   "outputs": [
    {
     "name": "stdout",
     "output_type": "stream",
     "text": [
      "Enter a number A: 10\n",
      "Enter a number B: 7\n",
      "A is larger than B\n"
     ]
    }
   ],
   "source": [
    "# 1.)Write a Python program that takes two numbers as input and prints the larger number.\n",
    "\n",
    "num_1=int(input(\"Enter a number A: \"))\n",
    "num_2=int(input(\"Enter a number B: \"))\n",
    "\n",
    "if num_1>num_2:\n",
    "    print(\"A is larger than B\")\n",
    "elif num_2>num_1:\n",
    "    print(\"B is larger than A\")"
   ]
  },
  {
   "cell_type": "code",
   "execution_count": 11,
   "id": "a0250ee5",
   "metadata": {},
   "outputs": [
    {
     "name": "stdout",
     "output_type": "stream",
     "text": [
      "Enter the month: 2\n",
      "spring\n"
     ]
    }
   ],
   "source": [
    "# 2.)Create a Python program that asks the user for a month (1-12) and then prints the corresponding season (\"Spring,\" \"Summer,\" \"Fall,\" or \"Winter\").\n",
    "\n",
    "month=int(input(\"Enter the month: \"))\n",
    "if month<=3:\n",
    "    print(\"spring\")\n",
    "elif month<=6:\n",
    "    print(\"summer\")\n",
    "elif month<=9:\n",
    "    print(\"Fall\")\n",
    "else:\n",
    "    print(\"Winter\")"
   ]
  },
  {
   "cell_type": "code",
   "execution_count": 17,
   "id": "63d9c5bb",
   "metadata": {},
   "outputs": [
    {
     "name": "stdout",
     "output_type": "stream",
     "text": [
      "Enter a year: 2800\n",
      "The Entered year is a leap year.\n"
     ]
    }
   ],
   "source": [
    "# 3.) Write a Python program that determines whether a given year is a leap year or not. Use the leap year rules mentioned earlier.\n",
    "\n",
    "#here we use nested-if-else condition\n",
    "year=int(input(\"Enter a year: \"))\n",
    "if year%100==0:\n",
    "    if year%400==0:\n",
    "        print(\"The Entered year is a leap year.\")\n",
    "    else:\n",
    "        print(\"The Entered year is not a leap year.\")\n",
    "else:\n",
    "    print(\"Not a century year\")\n",
    " "
   ]
  },
  {
   "cell_type": "code",
   "execution_count": 24,
   "id": "1347ef7f",
   "metadata": {},
   "outputs": [
    {
     "name": "stdout",
     "output_type": "stream",
     "text": [
      "Enter a number: 5\n",
      "Tne number is positive\n"
     ]
    }
   ],
   "source": [
    "# 4.) Create a program that takes an integer as input and checks if it's positive, negative, or zero. Print an appropriate message.\n",
    "\n",
    "num=float(input(\"Enter a number: \"))\n",
    "\n",
    "if num>0:\n",
    "    print(\"Tne number is positive\")\n",
    "elif num==0:\n",
    "    print(\"The number is zero\")\n",
    "else:\n",
    "    print(\"The number is negative\")"
   ]
  },
  {
   "cell_type": "code",
   "execution_count": 25,
   "id": "de539cef",
   "metadata": {},
   "outputs": [
    {
     "name": "stdout",
     "output_type": "stream",
     "text": [
      "Enter the age: 23\n",
      "Enter the gender (M or F): F\n",
      "You are an old woman \n"
     ]
    }
   ],
   "source": [
    "# .5) Write a Python program that asks the user for their age and gender. Based on their age and gender, print a message like \"You are a young man\" or \"You are an old woman.\"\n",
    "\n",
    "age = int(input(\"Enter the age: \"))\n",
    "gender = input(\"Enter the gender (M or F): \").upper()\n",
    "\n",
    "\n",
    "if age<18:\n",
    "    if gender == \"M\":\n",
    "        print(\"You are a young boy\")\n",
    "    elif gender == \"F\":\n",
    "        print(\"You are a young girl\")\n",
    "        \n",
    "\n",
    "else:\n",
    "    if gender == \"M\":\n",
    "        print(\"you are an old man\")\n",
    "    elif gender == \"F\":\n",
    "        print(\"You are an old woman \")"
   ]
  },
  {
   "cell_type": "code",
   "execution_count": 26,
   "id": "6d2796aa",
   "metadata": {},
   "outputs": [
    {
     "name": "stdout",
     "output_type": "stream",
     "text": [
      "Enter a Temperature in degree celcius: 32.5\n",
      "Temperature in Fahareneit is:  90.5\n"
     ]
    }
   ],
   "source": [
    "# .6) Create a program that takes a temperature in Celsius and converts it to Fahrenheit. Display the result with an appropriate message.\n",
    "\n",
    "temperature=float(input(\"Enter a Temperature in degree celcius: \"))\n",
    "farheneit=(temperature*9/5)+32\n",
    "print(\"Temperature in Fahareneit is: \",farheneit)"
   ]
  },
  {
   "cell_type": "code",
   "execution_count": 27,
   "id": "d6e5fc14",
   "metadata": {},
   "outputs": [
    {
     "name": "stdout",
     "output_type": "stream",
     "text": [
      "Enter the weight in pounds: 6\n",
      "The shipping cost is:  10.0\n"
     ]
    }
   ],
   "source": [
    "# 7.) Write a Python program that calculates the shipping cost based on the weight of a package. Use the following rules:\n",
    "#- Weight <= 2 pounds: $5.00\n",
    "#- 2 pounds < Weight <= 10 pounds: $10.00\n",
    "#- Weight > 10 pounds: $15.00\n",
    "\n",
    "weight = float(input(\"Enter the weight in pounds: \"))\n",
    "\n",
    "if weight <=2:\n",
    "    shipping_cost = 5.00\n",
    "elif weight<=10:\n",
    "    shipping_cost = 10.00\n",
    "else:\n",
    "    shipping_cost = 15.00\n",
    "    \n",
    "print(\"The shipping cost is: \",shipping_cost)\n",
    "\n",
    "    \n"
   ]
  },
  {
   "cell_type": "code",
   "execution_count": 28,
   "id": "0d4967a8",
   "metadata": {},
   "outputs": [
    {
     "name": "stdout",
     "output_type": "stream",
     "text": [
      "Enter number 1: 3\n",
      "Enter number 2: 12\n",
      "Enter number 3: 78\n",
      "numbers in ascending order are:  [3, 12, 78]\n"
     ]
    }
   ],
   "source": [
    "#.8) Create a program that asks the user for three numbers and then prints them in ascending order.\n",
    "\n",
    "num1=int(input(\"Enter number 1: \"))\n",
    "num2=int(input(\"Enter number 2: \"))\n",
    "num3=int(input(\"Enter number 3: \"))\n",
    "\n",
    "#sort the numbers in ascending number:\n",
    "\n",
    "sorted_number=sorted([num1,num2,num3])\n",
    "print(\"numbers in ascending order are: \",sorted_number)"
   ]
  },
  {
   "cell_type": "code",
   "execution_count": 31,
   "id": "f4677c1f",
   "metadata": {},
   "outputs": [
    {
     "name": "stdout",
     "output_type": "stream",
     "text": [
      "Enter a year: 1200\n",
      "1200 is a leap year.\n"
     ]
    }
   ],
   "source": [
    "#.9) Write a Python program that checks if a given year is a \"century year\" (ends in 00). If it's a century year, check if it's a leap year.\n",
    "\n",
    "# Input a year from the user\n",
    "year = int(input(\"Enter a year: \"))\n",
    "\n",
    "# Check if it's a century year (ends in 00)\n",
    "if year % 100 == 0:\n",
    "    # If it's a century year, check if it's a leap year\n",
    "    if year % 400 == 0:\n",
    "        print(f\"{year} is a leap year.\")\n",
    "    else:\n",
    "        print(f\"{year} is not a leap year.\")\n",
    "else:\n",
    "    print(f\"{year} is not a century year.\")\n"
   ]
  },
  {
   "cell_type": "code",
   "execution_count": 34,
   "id": "83c14309",
   "metadata": {},
   "outputs": [
    {
     "name": "stdout",
     "output_type": "stream",
     "text": [
      "Enter a number: 5\n",
      "(number) is odd.\n"
     ]
    }
   ],
   "source": [
    "#.10) Create a program that asks the user for a number and then determines if it's even or odd. Print an appropriate message.\n",
    "\n",
    "num=int(input(\"Enter a number: \"))\n",
    "\n",
    "if num%2==0:\n",
    "    print(f\"(number) is Even.\")\n",
    "else:\n",
    "    print(f\"(number) is odd.\")"
   ]
  },
  {
   "cell_type": "code",
   "execution_count": null,
   "id": "d750b72c",
   "metadata": {},
   "outputs": [],
   "source": []
  }
 ],
 "metadata": {
  "kernelspec": {
   "display_name": "Python 3 (ipykernel)",
   "language": "python",
   "name": "python3"
  },
  "language_info": {
   "codemirror_mode": {
    "name": "ipython",
    "version": 3
   },
   "file_extension": ".py",
   "mimetype": "text/x-python",
   "name": "python",
   "nbconvert_exporter": "python",
   "pygments_lexer": "ipython3",
   "version": "3.11.4"
  }
 },
 "nbformat": 4,
 "nbformat_minor": 5
}
